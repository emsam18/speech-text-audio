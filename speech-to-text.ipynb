{
 "cells": [
  {
   "cell_type": "code",
   "execution_count": 34,
   "metadata": {},
   "outputs": [],
   "source": [
    "# From the audio capture MediaRecorder API, we can send the audio file to a back-end server \n",
    "import os\n",
    "\n",
    "# Replace 'path/to/your/service-account-file.json' with the path to your service account key file\n",
    "os.environ['GOOGLE_APPLICATION_CREDENTIALS'] = '/Users/emilysam/Desktop/speech-text-audio/arctic-zoo-339006-7b14e2d7ac2d.json'\n"
   ]
  },
  {
   "cell_type": "code",
   "execution_count": 35,
   "id": "c53d1d2c",
   "metadata": {},
   "outputs": [],
   "source": [
    "# %pip install google-cloud-speech"
   ]
  },
  {
   "cell_type": "code",
   "execution_count": 36,
   "id": "35713b34",
   "metadata": {},
   "outputs": [],
   "source": [
    "# Import the Speech-to-Text client library\n",
    "from google.cloud import speech\n",
    "from google.protobuf import wrappers_pb2\n",
    "\n",
    "import numpy as np\n",
    "import pandas as pd"
   ]
  },
  {
   "cell_type": "code",
   "execution_count": 37,
   "id": "84219947",
   "metadata": {},
   "outputs": [],
   "source": [
    "# Instantiates a client\n",
    "client=speech.SpeechClient()"
   ]
  },
  {
   "cell_type": "code",
   "execution_count": 41,
   "id": "d3b88ce6",
   "metadata": {},
   "outputs": [],
   "source": [
    "#Ground truth: hi there my name is Emily Sam and this is a test \n",
    "\n",
    "# The name of the audio file to transcribe\n",
    "# em_test1 = \"gs://emsam_bucket/audio-files/em_test1.mp3\"\n",
    "# em_test2 = \"gs://emsam_bucket/audio-files/em_test2.mp3\"\n",
    "# em_test3 = \"gs://emsam_bucket/audio-files/em_test3.mp3\"\n",
    "gcs_uri=\"gs://emsam_bucket/audio-files/em_test3.mp3\""
   ]
  },
  {
   "cell_type": "code",
   "execution_count": 42,
   "id": "5cfb631b",
   "metadata": {},
   "outputs": [
    {
     "name": "stdout",
     "output_type": "stream",
     "text": [
      "Waiting for operation to complete...\n",
      "Transcript: thanks a black horse judge my mouth\n"
     ]
    }
   ],
   "source": [
    "def transcribe_speech():\n",
    "  audio=speech.RecognitionAudio(uri=gcs_uri)\n",
    "\n",
    "  config=speech.RecognitionConfig(\n",
    "  encoding=speech.RecognitionConfig.AudioEncoding.MP3,\n",
    "  sample_rate_hertz=48000,\n",
    "  language_code=\"en-US\",\n",
    "  model=\"latest_long\",\n",
    "  audio_channel_count=1,\n",
    "  enable_spoken_emojis=wrappers_pb2.BoolValue(value=True),\n",
    "  enable_word_confidence=True,\n",
    "  enable_word_time_offsets=True,\n",
    "  )\n",
    "\n",
    "  # Detects speech in the audio file\n",
    "  operation=client.long_running_recognize(config=config, audio=audio)\n",
    "\n",
    "  print(\"Waiting for operation to complete...\")\n",
    "  response=operation.result(timeout=90)\n",
    "\n",
    "  for result in response.results:\n",
    "    print(\"Transcript: {}\".format(result.alternatives[0].transcript))\n",
    "\n",
    "transcribe_speech()"
   ]
  },
  {
   "cell_type": "code",
   "execution_count": 43,
   "id": "fa15ce50",
   "metadata": {},
   "outputs": [],
   "source": [
    "# Developing a secure password handling system\n",
    "# I've avoided storing passwords in plain text. \n",
    "# Passwords should be stored as hashed values\n",
    "\n",
    "# Hashing Algorithm: manipulating unique numerical values that identifies the contents of a file \n",
    "# Hashing values: \n",
    "# can be as small as a single character or as large as 2GB in a file, \n",
    "# will be recalculated if file is changed\n",
    "# can also be used to protect passwords\n",
    "# can be thought of as fingerprints for files"
   ]
  },
  {
   "cell_type": "code",
   "execution_count": 44,
   "id": "8b415810",
   "metadata": {},
   "outputs": [],
   "source": [
    "#Logic for secure password handling system\n",
    "# install bcrypt which is a reliable hashing algorithm for passwords system\n",
    "# pip install bcrypt \n"
   ]
  },
  {
   "cell_type": "code",
   "execution_count": 46,
   "id": "2575ac64",
   "metadata": {},
   "outputs": [],
   "source": [
    "import bcrypt\n",
    "\n",
    "def hash_password(plain_text_password):\n",
    "    # Generate a salt\n",
    "    salt = bcrypt.gensalt()\n",
    "    \n",
    "    # Hash the password\n",
    "    hashed_password = bcrypt.hashpw(plain_text_password.encode('utf-8'), salt)\n",
    "\n",
    "\n",
    "    # Store the hashed_password in the database\n",
    "    # For this example, we'll just return it\n",
    "    return hashed_password\n"
   ]
  },
  {
   "cell_type": "markdown",
   "id": "7860b647",
   "metadata": {},
   "source": []
  },
  {
   "cell_type": "code",
   "execution_count": 47,
   "id": "f1019c74",
   "metadata": {},
   "outputs": [
    {
     "name": "stdout",
     "output_type": "stream",
     "text": [
      "Password is incorrect. \n"
     ]
    }
   ],
   "source": [
    "def check_password(plain_text_password, hashed_password): \n",
    "    # Check the provided password against the stored hash\n",
    "    return bcrypt.checkpw(plain_text_password.encode('utf-8'), hashed_password)\n",
    "\n",
    "stored_hashed_password = hash_password(\"user's password\") # this should be retrieved from your database\n",
    "\n",
    "# When the user tries to sign in, you would get their input and compare\n",
    "user_input_password = \"password the user entered\"\n",
    "is_correct_password = check_password(user_input_password, stored_hashed_password)\n",
    "\n",
    "if is_correct_password: \n",
    "    print(\"Password is correct! User is authenticated.\")\n",
    "\n",
    "else: \n",
    "    print(\"Password is incorrect. \")"
   ]
  },
  {
   "cell_type": "code",
   "execution_count": null,
   "id": "8a690c16",
   "metadata": {},
   "outputs": [],
   "source": []
  }
 ],
 "metadata": {
  "kernelspec": {
   "display_name": "Python 3.10.2 64-bit",
   "language": "python",
   "name": "python3"
  },
  "language_info": {
   "codemirror_mode": {
    "name": "ipython",
    "version": 3
   },
   "file_extension": ".py",
   "mimetype": "text/x-python",
   "name": "python",
   "nbconvert_exporter": "python",
   "pygments_lexer": "ipython3",
   "version": "3.10.2"
  },
  "vscode": {
   "interpreter": {
    "hash": "aee8b7b246df8f9039afb4144a1f6fd8d2ca17a180786b69acc140d282b71a49"
   }
  }
 },
 "nbformat": 4,
 "nbformat_minor": 5
}
